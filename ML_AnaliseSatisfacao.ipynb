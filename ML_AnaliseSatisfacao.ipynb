{
  "nbformat": 4,
  "nbformat_minor": 0,
  "metadata": {
    "colab": {
      "provenance": [],
      "include_colab_link": true
    },
    "kernelspec": {
      "name": "python3",
      "display_name": "Python 3"
    },
    "language_info": {
      "name": "python"
    }
  },
  "cells": [
    {
      "cell_type": "markdown",
      "metadata": {
        "id": "view-in-github",
        "colab_type": "text"
      },
      "source": [
        "<a href=\"https://colab.research.google.com/github/EdervanPsilva/ML_AnaliseSatisfacao/blob/main/ML_AnaliseSatisfacao.ipynb\" target=\"_parent\"><img src=\"https://colab.research.google.com/assets/colab-badge.svg\" alt=\"Open In Colab\"/></a>"
      ]
    },
    {
      "cell_type": "markdown",
      "source": [
        "##Código em Python utilizando Machine Learning para aprendizado e análises de satisfações em comentários."
      ],
      "metadata": {
        "id": "w15QA8GVICzY"
      }
    },
    {
      "cell_type": "markdown",
      "source": [
        "#Importando Bibliotecas"
      ],
      "metadata": {
        "id": "eRZmFoC1Ijv0"
      }
    },
    {
      "cell_type": "code",
      "source": [
        "import pandas as pd\n",
        "from sklearn.feature_extraction.text import TfidfVectorizer\n",
        "from sklearn.model_selection import train_test_split\n",
        "from sklearn.naive_bayes import MultinomialNB\n",
        "from sklearn.metrics import accuracy_score\n",
        "from textblob import TextBlob\n",
        "import random"
      ],
      "metadata": {
        "id": "8Eptb7vRIXBG"
      },
      "execution_count": null,
      "outputs": []
    },
    {
      "cell_type": "markdown",
      "source": [
        "#Dataframe para aprendizado"
      ],
      "metadata": {
        "id": "VMVxiCLUI3dS"
      }
    },
    {
      "cell_type": "code",
      "source": [
        "data = {\n",
        "    'text': [\n",
        "        \"Gostei\",\n",
        "        \"Muito ruim!\",\n",
        "        \"Gostei demais\",\n",
        "        \"Mais ou menos, da pra melhorar!\",\n",
        "        \"O melhor!\",\n",
        "        \"Ruim, não gostei\",\n",
        "        \"Muito bom!\",\n",
        "        \"Um pouco lento, mas eu gostei.\",\n",
        "        \"Horrível\",\n",
        "        \"Muito bom, gostei demais\",\n",
        "        \"Bom\",\n",
        "        \"Ruim\",\n",
        "        \"Gostei\",\n",
        "        \"Muito bom!\",\n",
        "        \"Gostei.\",\n",
        "        \"Horrível demais\",\n",
        "        \"Muito bom\",\n",
        "        \"Não recomendo!\"\n",
        "\n",
        "\n",
        "],\n",
        "    'label': [\n",
        "        1, 0, 1, 0, 1, 0, 1, 1, 0, 1, 1, 0, 1, 1, 1, 0, 1, 0\n",
        "    ]\n",
        "}\n",
        "\n",
        "df = pd.DataFrame(data)"
      ],
      "metadata": {
        "id": "RzGDzr6bJCM4"
      },
      "execution_count": null,
      "outputs": []
    },
    {
      "cell_type": "markdown",
      "source": [
        "# Adicionando novas frases do dataframe"
      ],
      "metadata": {
        "id": "AZyPnjudZ4U5"
      }
    },
    {
      "cell_type": "code",
      "source": [
        "import random\n",
        "\n",
        "# Função para gerar frases aleatórias\n",
        "def gerar_frase(sentimento):\n",
        "  palavras_positivas = [\"bom\", \"ótimo\", \"excelente\", \"incrível\", \"fantástico\", \"adorei\", \"amei\", \"perfeito\", \"recomendo\", \"eficiente\",\"Gostei\"]\n",
        "  palavras_negativas = [\"ruim\", \"péssimo\", \"horrível\", \"terrível\", \"decepcionante\", \"frustrante\", \"odeio\", \"não gostei\", \"lento\", \"complicado\"]\n",
        "\n",
        "  palavras = palavras_positivas if sentimento == 1 else palavras_negativas\n",
        "  num_palavras = random.randint(3, 8)\n",
        "  frase = \" \".join(random.choice(palavras) for _ in range(num_palavras))\n",
        "  return frase.capitalize() + \"!\"\n",
        "\n",
        "# Gerar novas frases e labels\n",
        "novas_frases = []\n",
        "for _ in range(200):\n",
        "  novas_frases.append((gerar_frase(1), 1))  # Boas avaliações\n",
        "  novas_frases.append((gerar_frase(0), 0))  # Ruins avaliações\n",
        "\n",
        "# Adicionar as novas frases ao dataframe\n",
        "novas_linhas = pd.DataFrame(novas_frases, columns=['text', 'label'])\n",
        "data = pd.concat([pd.DataFrame(data), novas_linhas], ignore_index=True)"
      ],
      "metadata": {
        "id": "kiPvw6FMZ9Wv"
      },
      "execution_count": null,
      "outputs": []
    },
    {
      "cell_type": "markdown",
      "source": [
        "#Treinamento do modelo ML"
      ],
      "metadata": {
        "id": "iwkr7P21ar87"
      }
    },
    {
      "cell_type": "code",
      "source": [
        "# Pré-processamento usando TF-IDF\n",
        "vectorizer = TfidfVectorizer()\n",
        "X = vectorizer.fit_transform(data['text'])\n",
        "\n",
        "# Remover valores None do rótulo para treinamento\n",
        "data_train = data[data['label'].notna()]\n",
        "X_train = vectorizer.transform(data_train['text'])\n",
        "y_train = data_train['label'].astype(int)\n",
        "\n",
        "# Treinamento do modelo Naive Bayes\n",
        "model = MultinomialNB()\n",
        "model.fit(X_train, y_train)\n",
        "\n",
        "# Predição para todos os comentários, incluindo o novo\n",
        "predicted_labels = model.predict(X)\n",
        "\n",
        "# Adicionar a coluna 'predicted_label' ao DataFrame\n",
        "data['predicted_label'] = predicted_labels\n",
        "data['predicted_label'] = data['predicted_label'].apply(lambda x: 'Positivo' if x == 1 else 'Negativo')\n",
        "\n",
        "# Atualizar a coluna 'label' do novo comentário com a previsão\n",
        "data.loc[data['label'].isna(), 'label'] = data.loc[data['label'].isna(), 'predicted_label'].apply(lambda x: 1 if x == 'Positivo' else 0)\n"
      ],
      "metadata": {
        "id": "c8z3wYADa-nh"
      },
      "execution_count": null,
      "outputs": []
    },
    {
      "cell_type": "markdown",
      "source": [
        "#Novo dataframe para ser analisado"
      ],
      "metadata": {
        "id": "aN8WANJ6bMmr"
      }
    },
    {
      "cell_type": "code",
      "source": [
        "# Novo DataFrame para ser analisado\n",
        "new_data = {\n",
        "    'text': [\n",
        "        \"Bom demais\",\n",
        "        \"Não gostei, achei muito lento\",\n",
        "        \"Muito bom, recomendo\",\n",
        "        \"Muito legal\",\n",
        "        \"Não Gostei\"\n",
        "\n",
        "\n",
        "\n",
        "    ]\n",
        "}\n",
        "\n",
        "new_df = pd.DataFrame(new_data)\n",
        "\n"
      ],
      "metadata": {
        "id": "qSXOopXtbTHh"
      },
      "execution_count": null,
      "outputs": []
    },
    {
      "cell_type": "code",
      "source": [
        "# Pré-processamento do novo DataFrame\n",
        "X_new = vectorizer.transform(new_df['text'])\n",
        "\n",
        "# Predição para o novo DataFrame\n",
        "new_predictions = model.predict(X_new)\n",
        "\n",
        "# Adicionar a coluna 'Resultado' ao novo DataFrame\n",
        "new_df['Resultado'] = new_predictions\n",
        "new_df['Resultado'] = new_df['Resultado'].apply(lambda x: 'Positivo ✔' if x == 1 else 'Negativo ❌')\n",
        "\n",
        "print(new_df)"
      ],
      "metadata": {
        "colab": {
          "base_uri": "https://localhost:8080/"
        },
        "id": "RoXXBlhJckYc",
        "outputId": "5b868d5f-1f80-46f6-d984-890fa90269a5"
      },
      "execution_count": null,
      "outputs": [
        {
          "output_type": "stream",
          "name": "stdout",
          "text": [
            "                            text   Resultado\n",
            "0                     Bom demais  Positivo ✔\n",
            "1  Não gostei, achei muito lento  Negativo ❌\n",
            "2           Muito bom, recomendo  Positivo ✔\n",
            "3                    Muito legal  Positivo ✔\n",
            "4                     Não Gostei  Negativo ❌\n"
          ]
        }
      ]
    }
  ]
}